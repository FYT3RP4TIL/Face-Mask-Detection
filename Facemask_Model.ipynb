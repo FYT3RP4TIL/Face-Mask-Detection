{
 "cells": [
  {
   "cell_type": "code",
   "execution_count": 18,
   "id": "01e6ca13",
   "metadata": {},
   "outputs": [],
   "source": [
    "import tensorflow as tf\n",
    "from keras.models import Sequential\n",
    "from keras.layers import Conv2D,MaxPooling2D,Dropout,Flatten,Dense\n",
    "from keras.optimizers import Adam\n",
    "from keras.preprocessing.image import ImageDataGenerator\n",
    "import numpy as np\n",
    "import matplotlib.pyplot as plt"
   ]
  },
  {
   "cell_type": "code",
   "execution_count": 19,
   "id": "bf905f30",
   "metadata": {},
   "outputs": [],
   "source": [
    "import os\n",
    "main_dir ='New Masks Dataset'\n",
    "train_dir = os.path.join(main_dir,'Train')\n",
    "test_dir = os.path.join(main_dir,'Test')\n",
    "valid_dir = os.path.join(main_dir,'Validation')\n",
    "\n",
    "train_mask_dir = os.path.join(train_dir,'Mask')\n",
    "train_nomask_dir = os.path.join(train_dir,'Non Mask')"
   ]
  },
  {
   "cell_type": "code",
   "execution_count": 20,
   "id": "51ff24ad",
   "metadata": {},
   "outputs": [
    {
     "name": "stdout",
     "output_type": "stream",
     "text": [
      "['0003.jpg', '0006.jpg', '0018.jpg', '0019.jpg', '0022.jpg', '0027.jpg', '0029.jpg', '0037.jpg', '0040.jpg', '0042.jpg']\n",
      "['0.jpg', '1.jpg', '10.jpg', '100.jpg', '101.jpg', '102.jpg', '104.jpg', '105.jpg', '106.jpg', '107.jpg']\n"
     ]
    }
   ],
   "source": [
    "train_mask_names = os.listdir(train_mask_dir)\n",
    "print(train_mask_names[:10])\n",
    "\n",
    "train_nomask_names = os.listdir(train_nomask_dir)\n",
    "print(train_nomask_names[:10])"
   ]
  },
  {
   "cell_type": "code",
   "execution_count": 21,
   "id": "e346f6d1",
   "metadata": {},
   "outputs": [
    {
     "name": "stdout",
     "output_type": "stream",
     "text": [
      "Found 600 images belonging to 2 classes.\n",
      "Found 600 images belonging to 2 classes.\n",
      "Found 600 images belonging to 2 classes.\n"
     ]
    }
   ],
   "source": [
    "train_datagen = ImageDataGenerator(rescale = 1./255,\n",
    "                                   zoom_range = 0.2,\n",
    "                                   rotation_range = 40,\n",
    "                                   horizontal_flip = True)\n",
    "\n",
    "test_datagen = ImageDataGenerator(rescale = 1./255)\n",
    "validation_datagen =ImageDataGenerator(rescale = 1./255)\n",
    "\n",
    "train_generator = train_datagen.flow_from_directory(train_dir,\n",
    "                                                    target_size =(150,150),\n",
    "                                                    batch_size = 32,\n",
    "                                                    class_mode = 'binary')\n",
    "test_generator = train_datagen.flow_from_directory(train_dir,\n",
    "                                                    target_size =(150,150),\n",
    "                                                    batch_size = 32,\n",
    "                                                    class_mode = 'binary')\n",
    "valid_generator = train_datagen.flow_from_directory(train_dir,\n",
    "                                                    target_size =(150,150),\n",
    "                                                    batch_size = 32,\n",
    "                                                    class_mode = 'binary')"
   ]
  },
  {
   "cell_type": "code",
   "execution_count": 22,
   "id": "62c8bb70",
   "metadata": {},
   "outputs": [
    {
     "name": "stdout",
     "output_type": "stream",
     "text": [
      "{'Mask': 0, 'Non Mask': 1}\n"
     ]
    }
   ],
   "source": [
    "print(train_generator.class_indices)"
   ]
  },
  {
   "cell_type": "code",
   "execution_count": 23,
   "id": "7ac901d5",
   "metadata": {},
   "outputs": [
    {
     "name": "stdout",
     "output_type": "stream",
     "text": [
      "Model: \"sequential_2\"\n",
      "_________________________________________________________________\n",
      " Layer (type)                Output Shape              Param #   \n",
      "=================================================================\n",
      " conv2d_2 (Conv2D)           (None, 150, 150, 32)      896       \n",
      "                                                                 \n",
      " max_pooling2d_2 (MaxPooling  (None, 75, 75, 32)       0         \n",
      " 2D)                                                             \n",
      "                                                                 \n",
      " dropout_3 (Dropout)         (None, 75, 75, 32)        0         \n",
      "                                                                 \n",
      " conv2d_3 (Conv2D)           (None, 75, 75, 64)        18496     \n",
      "                                                                 \n",
      " max_pooling2d_3 (MaxPooling  (None, 37, 37, 64)       0         \n",
      " 2D)                                                             \n",
      "                                                                 \n",
      " dropout_4 (Dropout)         (None, 37, 37, 64)        0         \n",
      "                                                                 \n",
      " flatten_1 (Flatten)         (None, 87616)             0         \n",
      "                                                                 \n",
      " dense_2 (Dense)             (None, 256)               22429952  \n",
      "                                                                 \n",
      " dropout_5 (Dropout)         (None, 256)               0         \n",
      "                                                                 \n",
      " dense_3 (Dense)             (None, 1)                 257       \n",
      "                                                                 \n",
      "=================================================================\n",
      "Total params: 22,449,601\n",
      "Trainable params: 22,449,601\n",
      "Non-trainable params: 0\n",
      "_________________________________________________________________\n"
     ]
    }
   ],
   "source": [
    "model = Sequential()\n",
    "model.add(Conv2D(32,(3,3),padding='SAME',activation = 'relu',input_shape = (150,150,3)))\n",
    "model.add(MaxPooling2D(pool_size=(2,2)))\n",
    "model.add(Dropout(0.5))\n",
    "\n",
    "model.add(Conv2D(64,(3,3),padding='SAME',activation = 'relu'))\n",
    "model.add(MaxPooling2D(pool_size=(2,2)))\n",
    "model.add(Dropout(0.5))\n",
    "\n",
    "model.add(Flatten())\n",
    "\n",
    "model.add(Dense(256,activation='relu'))\n",
    "model.add(Dropout(0.5))\n",
    "model.add(Dense(1,activation='sigmoid'))\n",
    "model.summary()"
   ]
  },
  {
   "cell_type": "code",
   "execution_count": 24,
   "id": "426ed8e5",
   "metadata": {},
   "outputs": [
    {
     "name": "stderr",
     "output_type": "stream",
     "text": [
      "C:\\Users\\SUDHANSHU\\anaconda3\\lib\\site-packages\\keras\\optimizers\\optimizer_v2\\adam.py:117: UserWarning: The `lr` argument is deprecated, use `learning_rate` instead.\n",
      "  super().__init__(name, **kwargs)\n"
     ]
    }
   ],
   "source": [
    "model.compile(Adam(lr=0.001),loss='binary_crossentropy',metrics=['accuracy'])"
   ]
  },
  {
   "cell_type": "code",
   "execution_count": 26,
   "id": "c205c3b8",
   "metadata": {},
   "outputs": [
    {
     "name": "stdout",
     "output_type": "stream",
     "text": [
      "Epoch 1/30\n",
      "19/19 [==============================] - 17s 849ms/step - loss: 3.9979 - accuracy: 0.5283 - val_loss: 0.6931 - val_accuracy: 0.5017\n",
      "Epoch 2/30\n",
      "19/19 [==============================] - 15s 802ms/step - loss: 0.6896 - accuracy: 0.5500 - val_loss: 0.6929 - val_accuracy: 0.5000\n",
      "Epoch 3/30\n",
      "19/19 [==============================] - 15s 800ms/step - loss: 0.6397 - accuracy: 0.6000 - val_loss: 0.6251 - val_accuracy: 0.7617\n",
      "Epoch 4/30\n",
      "19/19 [==============================] - 15s 804ms/step - loss: 0.4601 - accuracy: 0.7933 - val_loss: 0.4623 - val_accuracy: 0.8083\n",
      "Epoch 5/30\n",
      "19/19 [==============================] - 15s 797ms/step - loss: 0.3405 - accuracy: 0.8717 - val_loss: 0.3812 - val_accuracy: 0.8450\n",
      "Epoch 6/30\n",
      "19/19 [==============================] - 19s 1s/step - loss: 0.2795 - accuracy: 0.8967 - val_loss: 0.3598 - val_accuracy: 0.8517\n",
      "Epoch 7/30\n",
      "19/19 [==============================] - 15s 806ms/step - loss: 0.2615 - accuracy: 0.9083 - val_loss: 0.3282 - val_accuracy: 0.8683\n",
      "Epoch 8/30\n",
      "19/19 [==============================] - 15s 792ms/step - loss: 0.2753 - accuracy: 0.8983 - val_loss: 0.3314 - val_accuracy: 0.8717\n",
      "Epoch 9/30\n",
      "19/19 [==============================] - 15s 795ms/step - loss: 0.2332 - accuracy: 0.9133 - val_loss: 0.2921 - val_accuracy: 0.8933\n",
      "Epoch 10/30\n",
      "19/19 [==============================] - 15s 797ms/step - loss: 0.2961 - accuracy: 0.8950 - val_loss: 0.3672 - val_accuracy: 0.8800\n",
      "Epoch 11/30\n",
      "19/19 [==============================] - 15s 797ms/step - loss: 0.2306 - accuracy: 0.9183 - val_loss: 0.2685 - val_accuracy: 0.9100\n",
      "Epoch 12/30\n",
      "19/19 [==============================] - 15s 799ms/step - loss: 0.2203 - accuracy: 0.9233 - val_loss: 0.2894 - val_accuracy: 0.9067\n",
      "Epoch 13/30\n",
      "19/19 [==============================] - 16s 828ms/step - loss: 0.2104 - accuracy: 0.9233 - val_loss: 0.2704 - val_accuracy: 0.8867\n",
      "Epoch 14/30\n",
      "19/19 [==============================] - 15s 808ms/step - loss: 0.2220 - accuracy: 0.9067 - val_loss: 0.2864 - val_accuracy: 0.9000\n",
      "Epoch 15/30\n",
      "19/19 [==============================] - 19s 1s/step - loss: 0.2199 - accuracy: 0.9150 - val_loss: 0.2896 - val_accuracy: 0.8717\n",
      "Epoch 16/30\n",
      "19/19 [==============================] - 15s 803ms/step - loss: 0.2400 - accuracy: 0.9067 - val_loss: 0.2988 - val_accuracy: 0.8667\n",
      "Epoch 17/30\n",
      "19/19 [==============================] - 15s 812ms/step - loss: 0.2163 - accuracy: 0.9250 - val_loss: 0.2565 - val_accuracy: 0.9150\n",
      "Epoch 18/30\n",
      "19/19 [==============================] - 19s 1s/step - loss: 0.1997 - accuracy: 0.9250 - val_loss: 0.2198 - val_accuracy: 0.9200\n",
      "Epoch 19/30\n",
      "19/19 [==============================] - 19s 1s/step - loss: 0.1970 - accuracy: 0.9317 - val_loss: 0.2170 - val_accuracy: 0.9367\n",
      "Epoch 20/30\n",
      "19/19 [==============================] - 15s 807ms/step - loss: 0.1938 - accuracy: 0.9300 - val_loss: 0.2299 - val_accuracy: 0.9050\n",
      "Epoch 21/30\n",
      "19/19 [==============================] - 19s 1s/step - loss: 0.2078 - accuracy: 0.9250 - val_loss: 0.2225 - val_accuracy: 0.9350\n",
      "Epoch 22/30\n",
      "19/19 [==============================] - 15s 792ms/step - loss: 0.1871 - accuracy: 0.9233 - val_loss: 0.2052 - val_accuracy: 0.9367\n",
      "Epoch 23/30\n",
      "19/19 [==============================] - 15s 801ms/step - loss: 0.2076 - accuracy: 0.9200 - val_loss: 0.2312 - val_accuracy: 0.9217\n",
      "Epoch 24/30\n",
      "19/19 [==============================] - 19s 1s/step - loss: 0.2001 - accuracy: 0.9200 - val_loss: 0.2154 - val_accuracy: 0.9317\n",
      "Epoch 25/30\n",
      "19/19 [==============================] - 19s 1s/step - loss: 0.1977 - accuracy: 0.9317 - val_loss: 0.2144 - val_accuracy: 0.9250\n",
      "Epoch 26/30\n",
      "19/19 [==============================] - 15s 803ms/step - loss: 0.1736 - accuracy: 0.9317 - val_loss: 0.2064 - val_accuracy: 0.9250\n",
      "Epoch 27/30\n",
      "19/19 [==============================] - 15s 800ms/step - loss: 0.1933 - accuracy: 0.9383 - val_loss: 0.1902 - val_accuracy: 0.9333\n",
      "Epoch 28/30\n",
      "19/19 [==============================] - 19s 1s/step - loss: 0.1785 - accuracy: 0.9333 - val_loss: 0.1661 - val_accuracy: 0.9450\n",
      "Epoch 29/30\n",
      "19/19 [==============================] - 19s 1s/step - loss: 0.1754 - accuracy: 0.9450 - val_loss: 0.1769 - val_accuracy: 0.9533\n",
      "Epoch 30/30\n",
      "19/19 [==============================] - 15s 804ms/step - loss: 0.1483 - accuracy: 0.9467 - val_loss: 0.1870 - val_accuracy: 0.9400\n"
     ]
    }
   ],
   "source": [
    "history = model.fit(train_generator,\n",
    "                    epochs = 30,\n",
    "                    validation_data = valid_generator)"
   ]
  },
  {
   "cell_type": "code",
   "execution_count": 28,
   "id": "d1dcc691",
   "metadata": {},
   "outputs": [
    {
     "name": "stdout",
     "output_type": "stream",
     "text": [
      "19/19 [==============================] - 6s 312ms/step - loss: 0.1837 - accuracy: 0.9433\n",
      "test acc :0.9433333277702332 test loss:0.18367449939250946\n"
     ]
    }
   ],
   "source": [
    "test_loss , test_acc = model.evaluate(test_generator)\n",
    "print('test acc :{} test loss:{}'.format(test_acc,test_loss))"
   ]
  },
  {
   "cell_type": "code",
   "execution_count": 29,
   "id": "39a92b0d",
   "metadata": {},
   "outputs": [],
   "source": [
    "model.save('held_model.h5')"
   ]
  },
  {
   "cell_type": "code",
   "execution_count": null,
   "id": "b42aeac8",
   "metadata": {},
   "outputs": [],
   "source": []
  }
 ],
 "metadata": {
  "kernelspec": {
   "display_name": "Python 3 (ipykernel)",
   "language": "python",
   "name": "python3"
  },
  "language_info": {
   "codemirror_mode": {
    "name": "ipython",
    "version": 3
   },
   "file_extension": ".py",
   "mimetype": "text/x-python",
   "name": "python",
   "nbconvert_exporter": "python",
   "pygments_lexer": "ipython3",
   "version": "3.9.13"
  }
 },
 "nbformat": 4,
 "nbformat_minor": 5
}
